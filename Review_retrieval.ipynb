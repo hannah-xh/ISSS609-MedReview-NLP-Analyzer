{
  "nbformat": 4,
  "nbformat_minor": 0,
  "metadata": {
    "colab": {
      "provenance": [],
      "gpuType": "T4"
    },
    "kernelspec": {
      "name": "python3",
      "display_name": "Python 3"
    },
    "language_info": {
      "name": "python"
    },
    "widgets": {
      "application/vnd.jupyter.widget-state+json": {
        "2b7cbe7eacb84c26978d008ef931605a": {
          "model_module": "@jupyter-widgets/controls",
          "model_name": "TextModel",
          "model_module_version": "1.5.0",
          "state": {
            "_dom_classes": [],
            "_model_module": "@jupyter-widgets/controls",
            "_model_module_version": "1.5.0",
            "_model_name": "TextModel",
            "_view_count": null,
            "_view_module": "@jupyter-widgets/controls",
            "_view_module_version": "1.5.0",
            "_view_name": "TextView",
            "continuous_update": true,
            "description": "🩺 Condition:",
            "description_tooltip": null,
            "disabled": false,
            "layout": "IPY_MODEL_6f6b3cb778ac4bff8216db12e818d7e1",
            "placeholder": "Enter condition (e.g., 'Depression', 'Anxiety'): ",
            "style": "IPY_MODEL_eadbebb9308b4ab488fc6b32d1406395",
            "value": "anxiety"
          }
        },
        "6f6b3cb778ac4bff8216db12e818d7e1": {
          "model_module": "@jupyter-widgets/base",
          "model_name": "LayoutModel",
          "model_module_version": "1.2.0",
          "state": {
            "_model_module": "@jupyter-widgets/base",
            "_model_module_version": "1.2.0",
            "_model_name": "LayoutModel",
            "_view_count": null,
            "_view_module": "@jupyter-widgets/base",
            "_view_module_version": "1.2.0",
            "_view_name": "LayoutView",
            "align_content": null,
            "align_items": null,
            "align_self": null,
            "border": null,
            "bottom": null,
            "display": null,
            "flex": null,
            "flex_flow": null,
            "grid_area": null,
            "grid_auto_columns": null,
            "grid_auto_flow": null,
            "grid_auto_rows": null,
            "grid_column": null,
            "grid_gap": null,
            "grid_row": null,
            "grid_template_areas": null,
            "grid_template_columns": null,
            "grid_template_rows": null,
            "height": null,
            "justify_content": null,
            "justify_items": null,
            "left": null,
            "margin": null,
            "max_height": null,
            "max_width": null,
            "min_height": null,
            "min_width": null,
            "object_fit": null,
            "object_position": null,
            "order": null,
            "overflow": null,
            "overflow_x": null,
            "overflow_y": null,
            "padding": null,
            "right": null,
            "top": null,
            "visibility": null,
            "width": "50%"
          }
        },
        "eadbebb9308b4ab488fc6b32d1406395": {
          "model_module": "@jupyter-widgets/controls",
          "model_name": "DescriptionStyleModel",
          "model_module_version": "1.5.0",
          "state": {
            "_model_module": "@jupyter-widgets/controls",
            "_model_module_version": "1.5.0",
            "_model_name": "DescriptionStyleModel",
            "_view_count": null,
            "_view_module": "@jupyter-widgets/base",
            "_view_module_version": "1.2.0",
            "_view_name": "StyleView",
            "description_width": ""
          }
        },
        "04af81845d504c108597ddc5588055ee": {
          "model_module": "@jupyter-widgets/controls",
          "model_name": "TextModel",
          "model_module_version": "1.5.0",
          "state": {
            "_dom_classes": [],
            "_model_module": "@jupyter-widgets/controls",
            "_model_module_version": "1.5.0",
            "_model_name": "TextModel",
            "_view_count": null,
            "_view_module": "@jupyter-widgets/controls",
            "_view_module_version": "1.5.0",
            "_view_name": "TextView",
            "continuous_update": true,
            "description": "🔍 Query:",
            "description_tooltip": null,
            "disabled": false,
            "layout": "IPY_MODEL_d9cfc52836844a899e00f857be96c298",
            "placeholder": "Enter drug name or search keywords:",
            "style": "IPY_MODEL_9aba06f1922c465a83305ac064440da8",
            "value": "side effects"
          }
        },
        "d9cfc52836844a899e00f857be96c298": {
          "model_module": "@jupyter-widgets/base",
          "model_name": "LayoutModel",
          "model_module_version": "1.2.0",
          "state": {
            "_model_module": "@jupyter-widgets/base",
            "_model_module_version": "1.2.0",
            "_model_name": "LayoutModel",
            "_view_count": null,
            "_view_module": "@jupyter-widgets/base",
            "_view_module_version": "1.2.0",
            "_view_name": "LayoutView",
            "align_content": null,
            "align_items": null,
            "align_self": null,
            "border": null,
            "bottom": null,
            "display": null,
            "flex": null,
            "flex_flow": null,
            "grid_area": null,
            "grid_auto_columns": null,
            "grid_auto_flow": null,
            "grid_auto_rows": null,
            "grid_column": null,
            "grid_gap": null,
            "grid_row": null,
            "grid_template_areas": null,
            "grid_template_columns": null,
            "grid_template_rows": null,
            "height": null,
            "justify_content": null,
            "justify_items": null,
            "left": null,
            "margin": null,
            "max_height": null,
            "max_width": null,
            "min_height": null,
            "min_width": null,
            "object_fit": null,
            "object_position": null,
            "order": null,
            "overflow": null,
            "overflow_x": null,
            "overflow_y": null,
            "padding": null,
            "right": null,
            "top": null,
            "visibility": null,
            "width": "50%"
          }
        },
        "9aba06f1922c465a83305ac064440da8": {
          "model_module": "@jupyter-widgets/controls",
          "model_name": "DescriptionStyleModel",
          "model_module_version": "1.5.0",
          "state": {
            "_model_module": "@jupyter-widgets/controls",
            "_model_module_version": "1.5.0",
            "_model_name": "DescriptionStyleModel",
            "_view_count": null,
            "_view_module": "@jupyter-widgets/base",
            "_view_module_version": "1.2.0",
            "_view_name": "StyleView",
            "description_width": ""
          }
        },
        "c944359097684116992ed60939fb2e66": {
          "model_module": "@jupyter-widgets/controls",
          "model_name": "CheckboxModel",
          "model_module_version": "1.5.0",
          "state": {
            "_dom_classes": [],
            "_model_module": "@jupyter-widgets/controls",
            "_model_module_version": "1.5.0",
            "_model_name": "CheckboxModel",
            "_view_count": null,
            "_view_module": "@jupyter-widgets/controls",
            "_view_module_version": "1.5.0",
            "_view_name": "CheckboxView",
            "description": "Show all matching reviews",
            "description_tooltip": null,
            "disabled": false,
            "indent": false,
            "layout": "IPY_MODEL_47ced5606c84419da69bf3adcfdee7f3",
            "style": "IPY_MODEL_68a0b27f8cc34b21a6b46d500a090074",
            "value": false
          }
        },
        "47ced5606c84419da69bf3adcfdee7f3": {
          "model_module": "@jupyter-widgets/base",
          "model_name": "LayoutModel",
          "model_module_version": "1.2.0",
          "state": {
            "_model_module": "@jupyter-widgets/base",
            "_model_module_version": "1.2.0",
            "_model_name": "LayoutModel",
            "_view_count": null,
            "_view_module": "@jupyter-widgets/base",
            "_view_module_version": "1.2.0",
            "_view_name": "LayoutView",
            "align_content": null,
            "align_items": null,
            "align_self": null,
            "border": null,
            "bottom": null,
            "display": null,
            "flex": null,
            "flex_flow": null,
            "grid_area": null,
            "grid_auto_columns": null,
            "grid_auto_flow": null,
            "grid_auto_rows": null,
            "grid_column": null,
            "grid_gap": null,
            "grid_row": null,
            "grid_template_areas": null,
            "grid_template_columns": null,
            "grid_template_rows": null,
            "height": null,
            "justify_content": null,
            "justify_items": null,
            "left": null,
            "margin": null,
            "max_height": null,
            "max_width": null,
            "min_height": null,
            "min_width": null,
            "object_fit": null,
            "object_position": null,
            "order": null,
            "overflow": null,
            "overflow_x": null,
            "overflow_y": null,
            "padding": null,
            "right": null,
            "top": null,
            "visibility": null,
            "width": null
          }
        },
        "68a0b27f8cc34b21a6b46d500a090074": {
          "model_module": "@jupyter-widgets/controls",
          "model_name": "DescriptionStyleModel",
          "model_module_version": "1.5.0",
          "state": {
            "_model_module": "@jupyter-widgets/controls",
            "_model_module_version": "1.5.0",
            "_model_name": "DescriptionStyleModel",
            "_view_count": null,
            "_view_module": "@jupyter-widgets/base",
            "_view_module_version": "1.2.0",
            "_view_name": "StyleView",
            "description_width": ""
          }
        },
        "18787129ad364b1caefad80cfcdd905d": {
          "model_module": "@jupyter-widgets/output",
          "model_name": "OutputModel",
          "model_module_version": "1.0.0",
          "state": {
            "_dom_classes": [],
            "_model_module": "@jupyter-widgets/output",
            "_model_module_version": "1.0.0",
            "_model_name": "OutputModel",
            "_view_count": null,
            "_view_module": "@jupyter-widgets/output",
            "_view_module_version": "1.0.0",
            "_view_name": "OutputView",
            "layout": "IPY_MODEL_ad52951069394e83b21f43f7505dcd4f",
            "msg_id": "",
            "outputs": [
              {
                "output_type": "display_data",
                "data": {
                  "text/plain": "<IPython.core.display.HTML object>",
                  "text/html": "<b>🔍 Matching Reviews:</b><br><br>"
                },
                "metadata": {}
              },
              {
                "output_type": "display_data",
                "data": {
                  "text/plain": "<IPython.core.display.HTML object>",
                  "text/html": "\n                    <div style=\"margin-bottom:1em; padding:0.5em; border:1px solid #ddd; border-radius:8px;\">\n                        <b>💊 Drug:</b> clonazepam<br>\n                        <b>🩺 Condition:</b> anxiety<br>\n                        <b>⭐ Similarity:</b> 0.57<br>\n                        <b>📜 Review:</b><br>works without <mark>side</mark> <mark>effects</mark>.\n                    </div>\n                "
                },
                "metadata": {}
              },
              {
                "output_type": "display_data",
                "data": {
                  "text/plain": "<IPython.core.display.HTML object>",
                  "text/html": "\n                    <div style=\"margin-bottom:1em; padding:0.5em; border:1px solid #ddd; border-radius:8px;\">\n                        <b>💊 Drug:</b> klonopin<br>\n                        <b>🩺 Condition:</b> anxiety<br>\n                        <b>⭐ Similarity:</b> 0.57<br>\n                        <b>📜 Review:</b><br>works without <mark>side</mark> <mark>effects</mark>.\n                    </div>\n                "
                },
                "metadata": {}
              },
              {
                "output_type": "display_data",
                "data": {
                  "text/plain": "<IPython.core.display.HTML object>",
                  "text/html": "\n                    <div style=\"margin-bottom:1em; padding:0.5em; border:1px solid #ddd; border-radius:8px;\">\n                        <b>💊 Drug:</b> diazepam<br>\n                        <b>🩺 Condition:</b> anxiety<br>\n                        <b>⭐ Similarity:</b> 0.50<br>\n                        <b>📜 Review:</b><br>works well without <mark>side</mark> <mark>effects</mark>.\n                    </div>\n                "
                },
                "metadata": {}
              },
              {
                "output_type": "display_data",
                "data": {
                  "text/plain": "<IPython.core.display.HTML object>",
                  "text/html": "\n                    <div style=\"margin-bottom:1em; padding:0.5em; border:1px solid #ddd; border-radius:8px;\">\n                        <b>💊 Drug:</b> valium<br>\n                        <b>🩺 Condition:</b> anxiety<br>\n                        <b>⭐ Similarity:</b> 0.50<br>\n                        <b>📜 Review:</b><br>works well without <mark>side</mark> <mark>effects</mark>.\n                    </div>\n                "
                },
                "metadata": {}
              },
              {
                "output_type": "display_data",
                "data": {
                  "text/plain": "<IPython.core.display.HTML object>",
                  "text/html": "\n                    <div style=\"margin-bottom:1em; padding:0.5em; border:1px solid #ddd; border-radius:8px;\">\n                        <b>💊 Drug:</b> fluoxetine<br>\n                        <b>🩺 Condition:</b> anxiety stress<br>\n                        <b>⭐ Similarity:</b> 0.50<br>\n                        <b>📜 Review:</b><br>i039;ve started taking fluoxetine wanted comment <mark>side</mark> <mark>effects</mark>. tried zoloft <mark>side</mark> <mark>effects</mark> thought going die. scared try something new <mark>side</mark> <mark>effects</mark> me.\n                    </div>\n                "
                },
                "metadata": {}
              }
            ]
          }
        },
        "ad52951069394e83b21f43f7505dcd4f": {
          "model_module": "@jupyter-widgets/base",
          "model_name": "LayoutModel",
          "model_module_version": "1.2.0",
          "state": {
            "_model_module": "@jupyter-widgets/base",
            "_model_module_version": "1.2.0",
            "_model_name": "LayoutModel",
            "_view_count": null,
            "_view_module": "@jupyter-widgets/base",
            "_view_module_version": "1.2.0",
            "_view_name": "LayoutView",
            "align_content": null,
            "align_items": null,
            "align_self": null,
            "border": null,
            "bottom": null,
            "display": null,
            "flex": null,
            "flex_flow": null,
            "grid_area": null,
            "grid_auto_columns": null,
            "grid_auto_flow": null,
            "grid_auto_rows": null,
            "grid_column": null,
            "grid_gap": null,
            "grid_row": null,
            "grid_template_areas": null,
            "grid_template_columns": null,
            "grid_template_rows": null,
            "height": null,
            "justify_content": null,
            "justify_items": null,
            "left": null,
            "margin": null,
            "max_height": null,
            "max_width": null,
            "min_height": null,
            "min_width": null,
            "object_fit": null,
            "object_position": null,
            "order": null,
            "overflow": null,
            "overflow_x": null,
            "overflow_y": null,
            "padding": null,
            "right": null,
            "top": null,
            "visibility": null,
            "width": null
          }
        }
      }
    },
    "accelerator": "GPU"
  },
  "cells": [
    {
      "cell_type": "code",
      "source": [
        "from google.colab import drive\n",
        "drive.mount('/content/drive')"
      ],
      "metadata": {
        "colab": {
          "base_uri": "https://localhost:8080/"
        },
        "id": "xvpFnnxBStD-",
        "outputId": "2356300c-aa40-44ec-993d-af43dddd3315"
      },
      "execution_count": null,
      "outputs": [
        {
          "output_type": "stream",
          "name": "stdout",
          "text": [
            "Mounted at /content/drive\n"
          ]
        }
      ]
    },
    {
      "cell_type": "code",
      "source": [
        "import pandas as pd\n",
        "import ipywidgets as widgets\n",
        "from IPython.display import display, HTML\n",
        "from sklearn.feature_extraction.text import TfidfVectorizer\n",
        "from sklearn.metrics.pairwise import cosine_similarity\n",
        "\n",
        "# Load dataset\n",
        "df = pd.read_csv(\"/content/drive/My Drive/drug_no.csv\")"
      ],
      "metadata": {
        "id": "hK2mHbiqDmmg"
      },
      "execution_count": null,
      "outputs": []
    },
    {
      "cell_type": "code",
      "source": [
        "# Input widgets\n",
        "condition_input = widgets.Text(\n",
        "    placeholder=\"Enter condition (e.g., 'Depression', 'Anxiety'): \",\n",
        "    description=\"🩺 Condition:\",\n",
        "    layout=widgets.Layout(width='50%')\n",
        ")\n",
        "\n",
        "search_box = widgets.Text(\n",
        "    placeholder=\"Enter drug name or search keywords:\",\n",
        "    description=\"🔍 Query:\",\n",
        "    layout=widgets.Layout(width='50%')\n",
        ")\n",
        "\n",
        "show_all_checkbox = widgets.Checkbox(\n",
        "    value=False,\n",
        "    description='Show all matching reviews',\n",
        "    indent=False\n",
        ")\n",
        "\n",
        "output = widgets.Output()\n",
        "\n",
        "# Main search function\n",
        "def search_reviews(condition, query, show_all):\n",
        "    with output:\n",
        "        output.clear_output()\n",
        "\n",
        "        # Normalize condition\n",
        "        condition = condition.strip().lower()\n",
        "        if condition:\n",
        "            filtered_df = df[df['condition'].str.lower().str.contains(condition, na=False)]\n",
        "        else:\n",
        "            filtered_df = df.copy()\n",
        "\n",
        "        if not query:\n",
        "            display(HTML(\"<b>Showing sample reviews (no query):</b><br><br>\"))\n",
        "            display(filtered_df.head(5)[['drugName', 'condition', 'review']])\n",
        "            return\n",
        "\n",
        "        # TF-IDF vectorization\n",
        "        vectorizer = TfidfVectorizer()\n",
        "        tfidf_matrix = vectorizer.fit_transform(filtered_df['review'])\n",
        "\n",
        "        query_vector = vectorizer.transform([query])\n",
        "        similarities = cosine_similarity(query_vector, tfidf_matrix).flatten()\n",
        "\n",
        "        filtered_df = filtered_df.copy()\n",
        "        filtered_df['similarity'] = similarities\n",
        "\n",
        "        # Sort by similarity\n",
        "        filtered_df = filtered_df.sort_values(by='similarity', ascending=False)\n",
        "\n",
        "        # Show all or top 5\n",
        "        display_df = filtered_df if show_all else filtered_df.head(5)\n",
        "\n",
        "        if not display_df.empty:\n",
        "            display(HTML(\"<b>🔍 Matching Reviews:</b><br><br>\"))\n",
        "            for _, row in display_df.iterrows():\n",
        "                highlighted_review = row['review']\n",
        "                for keyword in query.lower().split():\n",
        "                    highlighted_review = highlighted_review.replace(\n",
        "                        keyword, f\"<mark>{keyword}</mark>\"\n",
        "                    ).replace(\n",
        "                        keyword.capitalize(), f\"<mark>{keyword.capitalize()}</mark>\"\n",
        "                    )\n",
        "                display(HTML(f\"\"\"\n",
        "                    <div style=\"margin-bottom:1em; padding:0.5em; border:1px solid #ddd; border-radius:8px;\">\n",
        "                        <b>💊 Drug:</b> {row['drugName']}<br>\n",
        "                        <b>🩺 Condition:</b> {row['condition']}<br>\n",
        "                        <b>⭐ Similarity:</b> {row['similarity']:.2f}<br>\n",
        "                        <b>📜 Review:</b><br>{highlighted_review}\n",
        "                    </div>\n",
        "                \"\"\"))\n",
        "        else:\n",
        "            print(\"No relevant reviews found.\")\n",
        "\n",
        "# Wrapper to update output\n",
        "def update_results(change=None):\n",
        "    search_reviews(condition_input.value, search_box.value, show_all_checkbox.value)\n",
        "\n",
        "# Observers (any change triggers update)\n",
        "condition_input.observe(update_results, names='value')\n",
        "search_box.observe(update_results, names='value')\n",
        "show_all_checkbox.observe(update_results, names='value')"
      ],
      "metadata": {
        "id": "6T_SlUzYF4BW"
      },
      "execution_count": null,
      "outputs": []
    },
    {
      "cell_type": "code",
      "source": [
        "# Display the UI\n",
        "display(condition_input, search_box, show_all_checkbox, output)"
      ],
      "metadata": {
        "id": "TTe-0sePG-vs",
        "colab": {
          "base_uri": "https://localhost:8080/",
          "height": 728,
          "referenced_widgets": [
            "2b7cbe7eacb84c26978d008ef931605a",
            "6f6b3cb778ac4bff8216db12e818d7e1",
            "eadbebb9308b4ab488fc6b32d1406395",
            "04af81845d504c108597ddc5588055ee",
            "d9cfc52836844a899e00f857be96c298",
            "9aba06f1922c465a83305ac064440da8",
            "c944359097684116992ed60939fb2e66",
            "47ced5606c84419da69bf3adcfdee7f3",
            "68a0b27f8cc34b21a6b46d500a090074",
            "18787129ad364b1caefad80cfcdd905d",
            "ad52951069394e83b21f43f7505dcd4f"
          ]
        },
        "outputId": "30526d75-920e-486a-8760-99d0524b4ffd"
      },
      "execution_count": null,
      "outputs": [
        {
          "output_type": "display_data",
          "data": {
            "text/plain": [
              "Text(value='', description='🩺 Condition:', layout=Layout(width='50%'), placeholder=\"Enter condition (e.g., 'De…"
            ],
            "application/vnd.jupyter.widget-view+json": {
              "version_major": 2,
              "version_minor": 0,
              "model_id": "2b7cbe7eacb84c26978d008ef931605a"
            }
          },
          "metadata": {}
        },
        {
          "output_type": "display_data",
          "data": {
            "text/plain": [
              "Text(value='', description='🔍 Query:', layout=Layout(width='50%'), placeholder='Enter drug name or search keyw…"
            ],
            "application/vnd.jupyter.widget-view+json": {
              "version_major": 2,
              "version_minor": 0,
              "model_id": "04af81845d504c108597ddc5588055ee"
            }
          },
          "metadata": {}
        },
        {
          "output_type": "display_data",
          "data": {
            "text/plain": [
              "Checkbox(value=False, description='Show all matching reviews', indent=False)"
            ],
            "application/vnd.jupyter.widget-view+json": {
              "version_major": 2,
              "version_minor": 0,
              "model_id": "c944359097684116992ed60939fb2e66"
            }
          },
          "metadata": {}
        },
        {
          "output_type": "display_data",
          "data": {
            "text/plain": [
              "Output()"
            ],
            "application/vnd.jupyter.widget-view+json": {
              "version_major": 2,
              "version_minor": 0,
              "model_id": "18787129ad364b1caefad80cfcdd905d"
            }
          },
          "metadata": {}
        }
      ]
    }
  ]
}